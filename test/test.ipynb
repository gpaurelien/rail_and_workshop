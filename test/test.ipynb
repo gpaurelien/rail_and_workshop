{
 "cells": [
  {
   "cell_type": "code",
   "execution_count": 20,
   "metadata": {},
   "outputs": [
    {
     "data": {
      "text/html": [
       "<div>\n",
       "<style scoped>\n",
       "    .dataframe tbody tr th:only-of-type {\n",
       "        vertical-align: middle;\n",
       "    }\n",
       "\n",
       "    .dataframe tbody tr th {\n",
       "        vertical-align: top;\n",
       "    }\n",
       "\n",
       "    .dataframe thead th {\n",
       "        text-align: right;\n",
       "    }\n",
       "</style>\n",
       "<table border=\"1\" class=\"dataframe\">\n",
       "  <thead>\n",
       "    <tr style=\"text-align: right;\">\n",
       "      <th></th>\n",
       "      <th>Name</th>\n",
       "      <th>Age</th>\n",
       "      <th>Height</th>\n",
       "    </tr>\n",
       "  </thead>\n",
       "  <tbody>\n",
       "    <tr>\n",
       "      <th>0</th>\n",
       "      <td>Loona</td>\n",
       "      <td>20.0</td>\n",
       "      <td>166</td>\n",
       "    </tr>\n",
       "    <tr>\n",
       "      <th>1</th>\n",
       "      <td>Aurélien</td>\n",
       "      <td>NaN</td>\n",
       "      <td>189</td>\n",
       "    </tr>\n",
       "    <tr>\n",
       "      <th>2</th>\n",
       "      <td>Amaury</td>\n",
       "      <td>15.0</td>\n",
       "      <td>189</td>\n",
       "    </tr>\n",
       "    <tr>\n",
       "      <th>3</th>\n",
       "      <td>Annabelle</td>\n",
       "      <td>20.0</td>\n",
       "      <td>166</td>\n",
       "    </tr>\n",
       "  </tbody>\n",
       "</table>\n",
       "</div>"
      ],
      "text/plain": [
       "        Name   Age  Height\n",
       "0      Loona  20.0     166\n",
       "1   Aurélien   NaN     189\n",
       "2     Amaury  15.0     189\n",
       "3  Annabelle  20.0     166"
      ]
     },
     "execution_count": 20,
     "metadata": {},
     "output_type": "execute_result"
    }
   ],
   "source": [
    "import pandas as pd\n",
    "import numpy as np\n",
    "import osmnx as ox\n",
    "\n",
    "test = {\n",
    "    'Name': ['Loona', 'Aurélien', 'Amaury', 'Annabelle'],\n",
    "    'Age': [20, np.NAN, 15, 20],\n",
    "    'Height': [166, 189, 189, 166]\n",
    "}\n",
    "\n",
    "df = pd.DataFrame(test)\n",
    "\n",
    "df"
   ]
  },
  {
   "cell_type": "code",
   "execution_count": null,
   "metadata": {},
   "outputs": [],
   "source": [
    "def get_node_group(this_graph, key):\n",
    "    edge = ox.graph_to_gdfs(this_graph, nodes=False)\n",
    "    r = edge[key].fillna(\"\").groupby(key)\n",
    "\n",
    "    group = dict(list(r))\n",
    "\n",
    "    r = {}\n",
    "\n",
    "    for k, v in group.items():\n",
    "        node_id = v.reset_index().values[:, 0:2].reshape(-1)\n",
    "        r[k] = np.unique(node_id)\n",
    "\n",
    "    return r"
   ]
  },
  {
   "cell_type": "code",
   "execution_count": 30,
   "metadata": {},
   "outputs": [
    {
     "name": "stdout",
     "output_type": "stream",
     "text": [
      "k = (166, 20.0) and v =    Height   Age\n",
      "0     166  20.0\n",
      "3     166  20.0\n",
      "k = (189, 15.0) and v =    Height   Age\n",
      "2     189  15.0\n",
      "k = (189, '') and v =    Height Age\n",
      "1     189    \n"
     ]
    }
   ],
   "source": [
    "COLUMNS = ['Height', 'Age']\n",
    "\n",
    "r = df[COLUMNS].fillna(\"\").groupby(COLUMNS)\n",
    "\n",
    "group = dict(list(r))\n",
    "\n",
    "group.items()\n",
    "\n",
    "for k, v in group.items():\n",
    "    print(f'k = {k} and v = {v}')"
   ]
  },
  {
   "cell_type": "code",
   "execution_count": null,
   "metadata": {},
   "outputs": [],
   "source": [
    "r = get_node_group()"
   ]
  },
  {
   "cell_type": "code",
   "execution_count": 34,
   "metadata": {},
   "outputs": [
    {
     "data": {
      "text/plain": [
       "array([['Loona', 20.0, 166],\n",
       "       ['Aurélien', nan, 189],\n",
       "       ['Amaury', 15.0, 189],\n",
       "       ['Annabelle', 20.0, 166]], dtype=object)"
      ]
     },
     "execution_count": 34,
     "metadata": {},
     "output_type": "execute_result"
    }
   ],
   "source": [
    "df.values[:, 0:3]"
   ]
  }
 ],
 "metadata": {
  "kernelspec": {
   "display_name": "Python 3",
   "language": "python",
   "name": "python3"
  },
  "language_info": {
   "codemirror_mode": {
    "name": "ipython",
    "version": 3
   },
   "file_extension": ".py",
   "mimetype": "text/x-python",
   "name": "python",
   "nbconvert_exporter": "python",
   "pygments_lexer": "ipython3",
   "version": "3.11.3"
  }
 },
 "nbformat": 4,
 "nbformat_minor": 2
}
